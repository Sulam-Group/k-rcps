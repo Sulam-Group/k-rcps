{
 "cells": [
  {
   "cell_type": "code",
   "execution_count": null,
   "metadata": {},
   "outputs": [],
   "source": [
    "import os\n",
    "import sys\n",
    "import torch\n",
    "import matplotlib.pyplot as plt\n",
    "import seaborn as sns\n",
    "from torchvision.utils import make_grid\n",
    "from torch.utils.data import DataLoader\n",
    "\n",
    "experiment_dir = \"../\"\n",
    "sys.path.append(experiment_dir)\n",
    "from configs import default_celeba, default_abdomen\n",
    "from configs.utils import get_config\n",
    "from dataset import get_dataset\n",
    "\n",
    "sns.set_theme()\n",
    "sns.set_context(\"paper\")\n",
    "\n",
    "fig_dir = os.path.join(experiment_dir, \"figures\", \"dataset\")\n",
    "os.makedirs(fig_dir, exist_ok=True)"
   ]
  },
  {
   "cell_type": "code",
   "execution_count": null,
   "metadata": {},
   "outputs": [],
   "source": [
    "configs = [\"default_celeba\", \"default_abdomen\"]\n",
    "for config_name in configs:\n",
    "    config = get_config(name=config_name)\n",
    "    config.data.return_img_id = False\n",
    "\n",
    "    _, dataset = get_dataset(config)\n",
    "\n",
    "    n = 15\n",
    "    loader = DataLoader(dataset, batch_size=n, shuffle=True, num_workers=1)\n",
    "    data = next(iter(loader))\n",
    "\n",
    "    if config.data.dataset == \"CelebA\":\n",
    "        mu = std = torch.tensor(3 * [0.5])\n",
    "        denorm = lambda x: (x * std[:, None, None]) + mu[:, None, None]\n",
    "        data = denorm(data)\n",
    "    im = make_grid(data, nrow=5)\n",
    "\n",
    "    _, ax = plt.subplots(figsize=(16, 9))\n",
    "    ax.imshow(\n",
    "        im.permute(1, 2, 0),\n",
    "        cmap=\"gray\" if config.data.dataset == \"AbdomenCT-1K\" else None,\n",
    "    )\n",
    "    ax.axis(\"off\")\n",
    "    plt.savefig(os.path.join(fig_dir, f\"{config.data.name}.png\"), bbox_inches=\"tight\")\n",
    "    plt.savefig(os.path.join(fig_dir, f\"{config.data.name}.pdf\"), bbox_inches=\"tight\")\n",
    "    plt.show()\n",
    "    plt.close()"
   ]
  }
 ],
 "metadata": {
  "kernelspec": {
   "display_name": "cuda116",
   "language": "python",
   "name": "python3"
  },
  "language_info": {
   "codemirror_mode": {
    "name": "ipython",
    "version": 3
   },
   "file_extension": ".py",
   "mimetype": "text/x-python",
   "name": "python",
   "nbconvert_exporter": "python",
   "pygments_lexer": "ipython3",
   "version": "3.11.5"
  },
  "vscode": {
   "interpreter": {
    "hash": "a22ede1198d678ad2a1cff9cda8d5b8766f1097d9385ad651df4552564969b5d"
   }
  }
 },
 "nbformat": 4,
 "nbformat_minor": 2
}
